{
 "cells": [
  {
   "cell_type": "markdown",
   "metadata": {},
   "source": [
    "# Installing and Importing Libraries"
   ]
  },
  {
   "cell_type": "code",
   "execution_count": 22,
   "metadata": {},
   "outputs": [],
   "source": [
    "%%capture\n",
    "pip install pandas"
   ]
  },
  {
   "cell_type": "code",
   "execution_count": 17,
   "metadata": {},
   "outputs": [],
   "source": [
    "%%capture\n",
    "!pip install ffmpeg"
   ]
  },
  {
   "cell_type": "code",
   "execution_count": 18,
   "metadata": {},
   "outputs": [],
   "source": [
    "%%capture\n",
    "!pip install pydub"
   ]
  },
  {
   "cell_type": "code",
   "execution_count": 19,
   "metadata": {},
   "outputs": [],
   "source": [
    "%%capture\n",
    "!pip install jiwer"
   ]
  },
  {
   "cell_type": "code",
   "execution_count": 20,
   "metadata": {},
   "outputs": [],
   "source": [
    "%%capture\n",
    "!pip install wave"
   ]
  },
  {
   "cell_type": "code",
   "execution_count": 1,
   "metadata": {},
   "outputs": [],
   "source": [
    "import pandas as pd"
   ]
  },
  {
   "cell_type": "code",
   "execution_count": 21,
   "metadata": {},
   "outputs": [],
   "source": [
    "from pydub import AudioSegment\n",
    "from IPython import display\n",
    "from jiwer import wer\n",
    "from wave import open as open_wave\n",
    "import os"
   ]
  },
  {
   "cell_type": "markdown",
   "metadata": {},
   "source": [
    "# Uploading Data"
   ]
  },
  {
   "cell_type": "code",
   "execution_count": 3,
   "metadata": {},
   "outputs": [],
   "source": [
    "df_train = pd.read_csv('/work2/d1/cv-corpus-7.0-2021-07-21/ru/train.tsv', sep = '\\t', header = 0)\n",
    "df_test = pd.read_csv('/work2/d1/cv-corpus-7.0-2021-07-21/ru/test.tsv', sep = '\\t', header = 0)\n",
    "df_valid = pd.read_csv('/work2/d1/cv-corpus-7.0-2021-07-21/ru/validated.tsv', sep = '\\t', header = 0)"
   ]
  },
  {
   "cell_type": "code",
   "execution_count": 8,
   "metadata": {},
   "outputs": [],
   "source": [
    "df_train = df_train.drop(['client_id', 'up_votes', 'down_votes', 'age', 'gender', 'accent', 'locale', 'segment'], axis = 1)\n",
    "df_test = df_test.drop(['client_id', 'up_votes', 'down_votes', 'age', 'gender', 'accent', 'locale', 'segment'], axis = 1)\n",
    "df_valid = df_valid.drop(['client_id', 'up_votes', 'down_votes', 'age', 'gender', 'accent', 'locale', 'segment'], axis = 1)"
   ]
  },
  {
   "cell_type": "code",
   "execution_count": null,
   "metadata": {},
   "outputs": [],
   "source": [
    "# df_train['new_path'] = 0\n",
    "# df_test['new_path'] = 0\n",
    "# df_valid['new_path'] = 0"
   ]
  },
  {
   "cell_type": "code",
   "execution_count": 57,
   "metadata": {},
   "outputs": [],
   "source": [
    "for i in range(len(df_train)):\n",
    "    df_train.iloc[[i],[2]] = '/work2/d1/cv-corpus-7.0-2021-07-21/ru/clips/' + df_train.iloc[i][0]"
   ]
  },
  {
   "cell_type": "code",
   "execution_count": 50,
   "metadata": {},
   "outputs": [],
   "source": [
    "for i in range(len(df_test)):\n",
    "    df_test.iloc[[i],[2]] = '/work2/d1/cv-corpus-7.0-2021-07-21/ru/clips/' + df_test.iloc[i][0]"
   ]
  },
  {
   "cell_type": "code",
   "execution_count": 58,
   "metadata": {},
   "outputs": [],
   "source": [
    "for i in range(len(df_valid)):\n",
    "    df_valid.iloc[[i],[2]] = '/work2/d1/cv-corpus-7.0-2021-07-21/ru/clips/' + df_valid.iloc[i][0]"
   ]
  },
  {
   "cell_type": "markdown",
   "metadata": {},
   "source": [
    "# Converting MP3 to WAV"
   ]
  },
  {
   "cell_type": "code",
   "execution_count": 59,
   "metadata": {},
   "outputs": [],
   "source": [
    "df_train['new_file'] = 0\n",
    "df_test['new_file'] = 0\n",
    "df_valid['new_file'] = 0"
   ]
  },
  {
   "cell_type": "code",
   "execution_count": 61,
   "metadata": {},
   "outputs": [],
   "source": [
    "from tqdm import tqdm"
   ]
  },
  {
   "cell_type": "code",
   "execution_count": 207,
   "metadata": {},
   "outputs": [],
   "source": [
    "import wave      \n",
    "def getWaveInfo(fname):       \n",
    "    try:         \n",
    "        w = wave.open(fname,'rb')         \n",
    "        print(\"Number of channels is: \",    w.getnchannels())         \n",
    "        print(\"Sample width in bytes is: \", w.getsampwidth())         \n",
    "        print(\"Framerate is: \",             w.getframerate())         \n",
    "        print(\"Number of frames is: \",      w.getnframes())     \n",
    "    except:         \n",
    "        print(w.error)"
   ]
  },
  {
   "cell_type": "code",
   "execution_count": 208,
   "metadata": {},
   "outputs": [
    {
     "name": "stdout",
     "output_type": "stream",
     "text": [
      "Number of channels is:  1\n",
      "Sample width in bytes is:  2\n",
      "Framerate is:  16000\n",
      "Number of frames is:  119808\n"
     ]
    }
   ],
   "source": [
    "getWaveInfo(\"/work2/d1/wav_files/wav_train/0.wav\")"
   ]
  },
  {
   "cell_type": "code",
   "execution_count": 64,
   "metadata": {},
   "outputs": [
    {
     "name": "stderr",
     "output_type": "stream",
     "text": [
      "100%|██████████| 17070/17070 [25:38<00:00, 11.10it/s]\n"
     ]
    }
   ],
   "source": [
    "for i in tqdm(range(len(df_train))):\n",
    "    sound = AudioSegment.from_mp3(df_train.iloc[i][2])\n",
    "    sound = sound.set_frame_rate(16000)\n",
    "    sound.export(f\"/work2/d1/wav_files/wav_train/{i}.wav\", format=\"wav\")\n",
    "    df_train.iloc[[i], [3]] = f\"/work2/d1/wav_files/wav_train/{i}.wav\""
   ]
  },
  {
   "cell_type": "code",
   "execution_count": 68,
   "metadata": {},
   "outputs": [
    {
     "name": "stderr",
     "output_type": "stream",
     "text": [
      "100%|██████████| 8425/8425 [12:47<00:00, 10.98it/s]\n"
     ]
    }
   ],
   "source": [
    "for i in tqdm(range(len(df_test))):\n",
    "    sound = AudioSegment.from_mp3(df_test.iloc[i][2])\n",
    "    sound = sound.set_frame_rate(16000)\n",
    "    sound.export(f\"/work2/d1/wav_files/wav_test/{i}.wav\", format=\"wav\")\n",
    "    df_test.iloc[[i],[3]] = f\"/work2/d1/wav_files/wav_test/{i}.wav\""
   ]
  },
  {
   "cell_type": "code",
   "execution_count": 74,
   "metadata": {},
   "outputs": [],
   "source": [
    "df_valid_short = df_valid[:8400].copy()"
   ]
  },
  {
   "cell_type": "code",
   "execution_count": 75,
   "metadata": {},
   "outputs": [
    {
     "name": "stderr",
     "output_type": "stream",
     "text": [
      "100%|██████████| 8400/8400 [12:15<00:00, 11.43it/s]\n"
     ]
    }
   ],
   "source": [
    "for i in tqdm(range(len(df_valid_short))):\n",
    "    sound = AudioSegment.from_mp3(df_valid_short.iloc[i][2])\n",
    "    sound = sound.set_frame_rate(16000)\n",
    "    sound.export(f\"/work2/d1/wav_files/wav_valid/{i}.wav\", format=\"wav\")\n",
    "    df_valid.iloc[[i],[3]] = f\"/work2/d1/wav_files/wav_valid/{i}.wav\""
   ]
  },
  {
   "cell_type": "markdown",
   "metadata": {},
   "source": [
    "# Adding Augmentation"
   ]
  },
  {
   "cell_type": "markdown",
   "metadata": {},
   "source": [
    "\n",
    "https://github.com/makcedward/nlpaug/blob/master/example/audio_augmenter.ipynb"
   ]
  },
  {
   "cell_type": "markdown",
   "metadata": {},
   "source": [
    "To perform audio augmentation I have tested several libraries to find the one which copes with the task best. The list of all available libraries can be found by following this link https://pythonrepo.com/repo/iver56-audiomentations-python-audio. My first choice was pydiogment which processes the audio, adds chosen effects, and saves it as a wav file. However, when tested and saved, there was a problem with file encryption and it couldn't have been played. Hence, I had to discard the library and look at other options. Also, when I looked closer at the list of available libraries pydiogment had only around 60 github stars, so I moved to the other library nlpaug with 2.8K github stars.\n",
    "\n",
    "Nlpaug with MIT license can apply noise, pitch, shift, speed, mask, loudness, and other types of augmentation. When I tried to run the code, all worked well, but the augmented data from wav file was saved as ndarray. It wasn't exactly what I was looking for. So, I looked into other libraries to see if there is a straightforward way to augment wav file and get the output as wav file too.\n",
    "\n",
    "I tested another library called pysndfx. It applied phaser and reverb directly to an audio file, then applied the effects to an ndarray, and stored the resulting audio as wav file to disk. However, when I played the audio file it was hard to understand what it was saying. So I concluded that this library would not be suitable for training STT coqui model.\n",
    "\n",
    "Since nlpaug had the highest score on github, I decided to stick with it and find a way to convert ndarray, which was its output, to wav format. With the help of scipy.io.wavfile method write, I converted the augmented data to wav file and verified its quality. It seemed ok."
   ]
  },
  {
   "cell_type": "markdown",
   "metadata": {},
   "source": [
    "## Testing pydiogment"
   ]
  },
  {
   "cell_type": "code",
   "execution_count": 128,
   "metadata": {},
   "outputs": [],
   "source": [
    "%%capture\n",
    "pip install numpy"
   ]
  },
  {
   "cell_type": "code",
   "execution_count": 129,
   "metadata": {},
   "outputs": [],
   "source": [
    "%%capture\n",
    "pip install scipy"
   ]
  },
  {
   "cell_type": "code",
   "execution_count": 130,
   "metadata": {},
   "outputs": [],
   "source": [
    "%%capture\n",
    "pip install pydiogment"
   ]
  },
  {
   "cell_type": "code",
   "execution_count": 131,
   "metadata": {},
   "outputs": [],
   "source": [
    "from pydiogment.auga import add_noise"
   ]
  },
  {
   "cell_type": "code",
   "execution_count": 132,
   "metadata": {},
   "outputs": [
    {
     "name": "stdout",
     "output_type": "stream",
     "text": [
      "Writing data to /work2/d1/wav_files/wav_valid/0_augmented_10_noisy.wav.\n"
     ]
    }
   ],
   "source": [
    "test_file = \"/work2/d1/wav_files/wav_valid/0.wav\"\n",
    "new_file = add_noise(test_file, 10)"
   ]
  },
  {
   "cell_type": "markdown",
   "metadata": {},
   "source": [
    "## Testing Nlpaug"
   ]
  },
  {
   "cell_type": "code",
   "execution_count": 106,
   "metadata": {},
   "outputs": [],
   "source": [
    "%%capture\n",
    "pip install nlpaug"
   ]
  },
  {
   "cell_type": "code",
   "execution_count": 133,
   "metadata": {},
   "outputs": [
    {
     "data": {
      "text/plain": [
       "'1.1.7'"
      ]
     },
     "execution_count": 133,
     "metadata": {},
     "output_type": "execute_result"
    }
   ],
   "source": [
    "import nlpaug\n",
    "nlpaug.__version__"
   ]
  },
  {
   "cell_type": "code",
   "execution_count": 108,
   "metadata": {},
   "outputs": [],
   "source": [
    "import nlpaug.augmenter.audio as naa\n",
    "from nlpaug.util.audio.visualizer import AudioVisualizer"
   ]
  },
  {
   "cell_type": "code",
   "execution_count": 110,
   "metadata": {},
   "outputs": [],
   "source": [
    "%%capture\n",
    "pip install librosa"
   ]
  },
  {
   "cell_type": "code",
   "execution_count": 112,
   "metadata": {},
   "outputs": [
    {
     "name": "stdout",
     "output_type": "stream",
     "text": [
      "Requirement already satisfied: colorama in /usr/lib/python3/dist-packages (0.3.7)\n",
      "Note: you may need to restart the kernel to use updated packages.\n"
     ]
    }
   ],
   "source": [
    "pip install colorama"
   ]
  },
  {
   "cell_type": "code",
   "execution_count": 111,
   "metadata": {},
   "outputs": [
    {
     "name": "stderr",
     "output_type": "stream",
     "text": [
      "/usr/local/lib/python3.6/dist-packages/numba/core/errors.py:154: UserWarning: Insufficiently recent colorama version found. Numba requires colorama >= 0.3.9\n",
      "  warnings.warn(msg)\n"
     ]
    }
   ],
   "source": [
    "import librosa\n",
    "import librosa.display as librosa_display\n",
    "import matplotlib.pyplot as plt"
   ]
  },
  {
   "cell_type": "code",
   "execution_count": 113,
   "metadata": {},
   "outputs": [],
   "source": [
    "file_path = \"/work2/d1/wav_files/wav_valid/0.wav\"\n",
    "data, sr = librosa.load(file_path)"
   ]
  },
  {
   "cell_type": "code",
   "execution_count": 115,
   "metadata": {},
   "outputs": [
    {
     "data": {
      "image/png": "[encoded data removed]",
      "text/plain": [
       "<Figure size 432x288 with 1 Axes>"
      ]
     },
     "metadata": {
      "needs_background": "light"
     },
     "output_type": "display_data"
    }
   ],
   "source": [
    "aug = naa.NoiseAug()\n",
    "augmented_data = aug.augment(data)\n",
    "\n",
    "librosa_display.waveplot(data, sr=sr, alpha=0.5)\n",
    "librosa_display.waveplot(augmented_data, sr=sr, color='r', alpha=0.25)\n",
    "\n",
    "plt.tight_layout()\n",
    "plt.show()"
   ]
  },
  {
   "cell_type": "code",
   "execution_count": 174,
   "metadata": {},
   "outputs": [
    {
     "data": {
      "text/plain": [
       "array([ 6.5291189e-08,  1.4205384e-07, -2.5078168e-07, ...,\n",
       "       -6.6510183e-12,  6.1096887e-12,  0.0000000e+00], dtype=float32)"
      ]
     },
     "execution_count": 174,
     "metadata": {},
     "output_type": "execute_result"
    }
   ],
   "source": [
    "augmented_data"
   ]
  },
  {
   "cell_type": "markdown",
   "metadata": {},
   "source": [
    "## Augmentation\n",
    "(wrong format float32)"
   ]
  },
  {
   "cell_type": "code",
   "execution_count": 171,
   "metadata": {},
   "outputs": [],
   "source": [
    "import numpy as np"
   ]
  },
  {
   "cell_type": "code",
   "execution_count": 175,
   "metadata": {},
   "outputs": [],
   "source": [
    "from scipy.io.wavfile import write"
   ]
  },
  {
   "cell_type": "code",
   "execution_count": 178,
   "metadata": {},
   "outputs": [],
   "source": [
    "def float2pcm(sig, dtype='int16'): \n",
    "    sig = np.asarray(sig) \n",
    "    dtype = np.dtype(dtype)\n",
    "    i = np.iinfo(dtype)\n",
    "    abs_max = 2 ** (i.bits - 1)\n",
    "    offset = i.min + abs_max\n",
    "    return (sig * abs_max + offset).clip(i.min, i.max).astype(dtype)"
   ]
  },
  {
   "cell_type": "code",
   "execution_count": 179,
   "metadata": {},
   "outputs": [],
   "source": [
    "my_test = float2pcm(augmented_data)"
   ]
  },
  {
   "cell_type": "code",
   "execution_count": 181,
   "metadata": {},
   "outputs": [
    {
     "data": {
      "text/plain": [
       "3173"
      ]
     },
     "execution_count": 181,
     "metadata": {},
     "output_type": "execute_result"
    }
   ],
   "source": [
    "np.max(my_test)"
   ]
  },
  {
   "cell_type": "code",
   "execution_count": 182,
   "metadata": {},
   "outputs": [],
   "source": [
    "write('/work2/d1/wav_files/wav_valid/0_test.wav', 16000, my_test)"
   ]
  },
  {
   "cell_type": "code",
   "execution_count": 134,
   "metadata": {},
   "outputs": [],
   "source": [
    "df_train['wav_filename'] = 0\n",
    "df_test['wav_filename'] = 0\n",
    "df_valid_short['wav_filename'] = 0"
   ]
  },
  {
   "cell_type": "code",
   "execution_count": 187,
   "metadata": {},
   "outputs": [],
   "source": [
    "import wave"
   ]
  },
  {
   "cell_type": "code",
   "execution_count": null,
   "metadata": {},
   "outputs": [],
   "source": [
    "aug = naa.NoiseAug()"
   ]
  },
  {
   "cell_type": "code",
   "execution_count": 190,
   "metadata": {},
   "outputs": [],
   "source": [
    "import pyaudio"
   ]
  },
  {
   "cell_type": "code",
   "execution_count": 139,
   "metadata": {},
   "outputs": [
    {
     "name": "stderr",
     "output_type": "stream",
     "text": [
      "100%|██████████| 17070/17070 [26:55<00:00, 10.57it/s]\n"
     ]
    }
   ],
   "source": [
    "for i in tqdm(range(len(df_train))):\n",
    "    file_path = df_train.iloc[i][3]\n",
    "    data, sr = librosa.load(file_path)\n",
    "    augmented_data = aug.augment(data)\n",
    "    write(f'/work2/d1/wav_files/aug_train/{i}.wav', 16000, augmented_data)\n",
    "    df_train.iloc[[i], [5]] = f'/work2/d1/wav_files/aug_train/{i}.wav'"
   ]
  },
  {
   "cell_type": "code",
   "execution_count": 188,
   "metadata": {},
   "outputs": [],
   "source": [
    "CHUNK = 10\n",
    "def play_wav(fname, chunk=CHUNK):\n",
    "    # create an audio object\n",
    "    wf = wave.open(fname, 'rb')\n",
    "    p = pyaudio.PyAudio()\n",
    "\n",
    "    # open stream based on the wave object which has been input.\n",
    "    stream = p.open(format=p.get_format_from_width(wf.getsampwidth()),\n",
    "                    channels=wf.getnchannels(),\n",
    "                    rate=wf.getframerate(),\n",
    "                    output=True)\n",
    "\n",
    "    # read data (based on the chunk size)\n",
    "    data = wf.readframes(chunk)\n",
    "\n",
    "    # play stream (looping from beginning of file to the end)\n",
    "    while len(data) > 0:\n",
    "        # writing to the stream is what *actually* plays the sound.\n",
    "        stream.write(data)\n",
    "        data = wf.readframes(chunk)\n",
    "\n",
    "    # cleanup stuff\n",
    "    stream.close()\n",
    "    p.terminate()"
   ]
  },
  {
   "cell_type": "code",
   "execution_count": 191,
   "metadata": {},
   "outputs": [],
   "source": [
    "play_wav(fname = '/work2/d1/wav_files/wav_valid/0_test.wav')"
   ]
  },
  {
   "cell_type": "code",
   "execution_count": 141,
   "metadata": {},
   "outputs": [
    {
     "name": "stderr",
     "output_type": "stream",
     "text": [
      "100%|██████████| 8425/8425 [13:50<00:00, 10.14it/s]\n"
     ]
    }
   ],
   "source": [
    "for i in tqdm(range(len(df_test))):\n",
    "    file_path = df_test.iloc[i][3]\n",
    "    data, sr = librosa.load(file_path)\n",
    "    augmented_data = aug.augment(data)\n",
    "    write(f'/work2/d1/wav_files/aug_test/{i}.wav', 16000, augmented_data)\n",
    "    df_test.iloc[[i], [5]] = f'/work2/d1/wav_files/aug_test/{i}.wav'"
   ]
  },
  {
   "cell_type": "code",
   "execution_count": 142,
   "metadata": {},
   "outputs": [
    {
     "name": "stderr",
     "output_type": "stream",
     "text": [
      "100%|██████████| 8400/8400 [12:54<00:00, 10.84it/s]\n"
     ]
    }
   ],
   "source": [
    "for i in tqdm(range(len(df_valid_short))):\n",
    "    file_path = df_valid_short.iloc[i][3]\n",
    "    data, sr = librosa.load(file_path)\n",
    "    augmented_data = aug.augment(data)\n",
    "    write(f'/work2/d1/wav_files/aug_valid/{i}.wav', 16000, augmented_data)\n",
    "    df_valid_short.iloc[[i], [5]] = f'/work2/d1/wav_files/aug_valid/{i}.wav'"
   ]
  },
  {
   "cell_type": "markdown",
   "metadata": {},
   "source": [
    "## Testing pysndfx"
   ]
  },
  {
   "cell_type": "code",
   "execution_count": 126,
   "metadata": {},
   "outputs": [],
   "source": [
    "%%capture\n",
    "pip install pysndfx"
   ]
  },
  {
   "cell_type": "code",
   "execution_count": 118,
   "metadata": {},
   "outputs": [],
   "source": [
    "from pysndfx import AudioEffectsChain\n",
    "\n",
    "fx = (\n",
    "    AudioEffectsChain()\n",
    "    .highshelf()\n",
    "    .reverb()\n",
    "    .phaser()\n",
    "    .delay()\n",
    "    .lowshelf()\n",
    ")"
   ]
  },
  {
   "cell_type": "code",
   "execution_count": 120,
   "metadata": {},
   "outputs": [],
   "source": [
    "infile = '/work2/d1/wav_files/wav_valid/0.wav'\n",
    "outfile = '/work2/d1/wav_files/wav_valid/0_processed.wav'\n",
    "\n",
    "\n",
    "# Apply phaser and reverb directly to an audio file.\n",
    "fx(infile, outfile)\n",
    "\n",
    "# Or, apply the effects directly to a ndarray.\n",
    "from librosa import load\n",
    "y, sr = load(infile, sr=None)\n",
    "y = fx(y)\n",
    "\n",
    "# Apply the effects and return the results as a ndarray.\n",
    "x = fx(infile)\n",
    "\n",
    "# Apply the effects to a ndarray but store the resulting audio to disk.\n",
    "fx(x, outfile)"
   ]
  },
  {
   "cell_type": "code",
   "execution_count": 123,
   "metadata": {},
   "outputs": [],
   "source": [
    "outfile2 = '/work2/d1/wav_files/wav_valid/0_processed2.wav'\n",
    "fx(augmented_data, outfile2)"
   ]
  },
  {
   "cell_type": "markdown",
   "metadata": {},
   "source": [
    "# Saving File Size"
   ]
  },
  {
   "cell_type": "code",
   "execution_count": 81,
   "metadata": {},
   "outputs": [],
   "source": [
    "df_train['wav_filesize'] = 0\n",
    "df_test['wav_filesize'] = 0\n",
    "df_valid_short['wav_filesize'] = 0"
   ]
  },
  {
   "cell_type": "code",
   "execution_count": 195,
   "metadata": {},
   "outputs": [
    {
     "name": "stderr",
     "output_type": "stream",
     "text": [
      "100%|██████████| 17070/17070 [00:04<00:00, 3475.24it/s]\n"
     ]
    }
   ],
   "source": [
    "for i in tqdm(range(len(df_train))):\n",
    "    df_train.iloc[[i],[4]] = os.path.getsize(df_train.iloc[i][3])"
   ]
  },
  {
   "cell_type": "code",
   "execution_count": 196,
   "metadata": {},
   "outputs": [
    {
     "name": "stderr",
     "output_type": "stream",
     "text": [
      "100%|██████████| 8425/8425 [00:02<00:00, 3522.46it/s]\n"
     ]
    }
   ],
   "source": [
    "for i in tqdm(range(len(df_test))):\n",
    "    df_test.iloc[[i],[4]] = os.path.getsize(df_test.iloc[i][3])"
   ]
  },
  {
   "cell_type": "code",
   "execution_count": 197,
   "metadata": {},
   "outputs": [
    {
     "name": "stderr",
     "output_type": "stream",
     "text": [
      "100%|██████████| 8400/8400 [00:02<00:00, 3491.29it/s]\n"
     ]
    }
   ],
   "source": [
    "for i in tqdm(range(len(df_valid_short))):\n",
    "    df_valid_short.iloc[[i],[4]] = os.path.getsize(df_valid_short.iloc[i][3])"
   ]
  },
  {
   "cell_type": "code",
   "execution_count": 198,
   "metadata": {},
   "outputs": [
    {
     "data": {
      "text/html": [
       "<div>\n",
       "<style scoped>\n",
       "    .dataframe tbody tr th:only-of-type {\n",
       "        vertical-align: middle;\n",
       "    }\n",
       "\n",
       "    .dataframe tbody tr th {\n",
       "        vertical-align: top;\n",
       "    }\n",
       "\n",
       "    .dataframe thead th {\n",
       "        text-align: right;\n",
       "    }\n",
       "</style>\n",
       "<table border=\"1\" class=\"dataframe\">\n",
       "  <thead>\n",
       "    <tr style=\"text-align: right;\">\n",
       "      <th></th>\n",
       "      <th>path</th>\n",
       "      <th>sentence</th>\n",
       "      <th>new_path</th>\n",
       "      <th>new_file</th>\n",
       "      <th>wav_filesize</th>\n",
       "      <th>wav_filename</th>\n",
       "    </tr>\n",
       "  </thead>\n",
       "  <tbody>\n",
       "    <tr>\n",
       "      <th>0</th>\n",
       "      <td>common_voice_ru_21949650.mp3</td>\n",
       "      <td>Теперь слово предоставляется Генеральному секр...</td>\n",
       "      <td>/work2/d1/cv-corpus-7.0-2021-07-21/ru/clips/co...</td>\n",
       "      <td>/work2/d1/wav_files/wav_train/0.wav</td>\n",
       "      <td>239660</td>\n",
       "      <td>/work2/d1/wav_files/aug_train/0.wav</td>\n",
       "    </tr>\n",
       "    <tr>\n",
       "      <th>1</th>\n",
       "      <td>common_voice_ru_21949651.mp3</td>\n",
       "      <td>В португальском языке такие слова, как жизнь, ...</td>\n",
       "      <td>/work2/d1/cv-corpus-7.0-2021-07-21/ru/clips/co...</td>\n",
       "      <td>/work2/d1/wav_files/wav_train/1.wav</td>\n",
       "      <td>210476</td>\n",
       "      <td>/work2/d1/wav_files/aug_train/1.wav</td>\n",
       "    </tr>\n",
       "    <tr>\n",
       "      <th>2</th>\n",
       "      <td>common_voice_ru_21949693.mp3</td>\n",
       "      <td>За прошедший год значительно продвинулось суде...</td>\n",
       "      <td>/work2/d1/cv-corpus-7.0-2021-07-21/ru/clips/co...</td>\n",
       "      <td>/work2/d1/wav_files/wav_train/2.wav</td>\n",
       "      <td>192044</td>\n",
       "      <td>/work2/d1/wav_files/aug_train/2.wav</td>\n",
       "    </tr>\n",
       "    <tr>\n",
       "      <th>3</th>\n",
       "      <td>common_voice_ru_21949699.mp3</td>\n",
       "      <td>Я предоставляю слово наблюдателю от Святого Пр...</td>\n",
       "      <td>/work2/d1/cv-corpus-7.0-2021-07-21/ru/clips/co...</td>\n",
       "      <td>/work2/d1/wav_files/wav_train/3.wav</td>\n",
       "      <td>210476</td>\n",
       "      <td>/work2/d1/wav_files/aug_train/3.wav</td>\n",
       "    </tr>\n",
       "    <tr>\n",
       "      <th>4</th>\n",
       "      <td>common_voice_ru_21949704.mp3</td>\n",
       "      <td>Швейцария стала одним из ее авторов.</td>\n",
       "      <td>/work2/d1/cv-corpus-7.0-2021-07-21/ru/clips/co...</td>\n",
       "      <td>/work2/d1/wav_files/wav_train/4.wav</td>\n",
       "      <td>125228</td>\n",
       "      <td>/work2/d1/wav_files/aug_train/4.wav</td>\n",
       "    </tr>\n",
       "  </tbody>\n",
       "</table>\n",
       "</div>"
      ],
      "text/plain": [
       "                           path  \\\n",
       "0  common_voice_ru_21949650.mp3   \n",
       "1  common_voice_ru_21949651.mp3   \n",
       "2  common_voice_ru_21949693.mp3   \n",
       "3  common_voice_ru_21949699.mp3   \n",
       "4  common_voice_ru_21949704.mp3   \n",
       "\n",
       "                                            sentence  \\\n",
       "0  Теперь слово предоставляется Генеральному секр...   \n",
       "1  В португальском языке такие слова, как жизнь, ...   \n",
       "2  За прошедший год значительно продвинулось суде...   \n",
       "3  Я предоставляю слово наблюдателю от Святого Пр...   \n",
       "4               Швейцария стала одним из ее авторов.   \n",
       "\n",
       "                                            new_path  \\\n",
       "0  /work2/d1/cv-corpus-7.0-2021-07-21/ru/clips/co...   \n",
       "1  /work2/d1/cv-corpus-7.0-2021-07-21/ru/clips/co...   \n",
       "2  /work2/d1/cv-corpus-7.0-2021-07-21/ru/clips/co...   \n",
       "3  /work2/d1/cv-corpus-7.0-2021-07-21/ru/clips/co...   \n",
       "4  /work2/d1/cv-corpus-7.0-2021-07-21/ru/clips/co...   \n",
       "\n",
       "                              new_file  wav_filesize  \\\n",
       "0  /work2/d1/wav_files/wav_train/0.wav        239660   \n",
       "1  /work2/d1/wav_files/wav_train/1.wav        210476   \n",
       "2  /work2/d1/wav_files/wav_train/2.wav        192044   \n",
       "3  /work2/d1/wav_files/wav_train/3.wav        210476   \n",
       "4  /work2/d1/wav_files/wav_train/4.wav        125228   \n",
       "\n",
       "                          wav_filename  \n",
       "0  /work2/d1/wav_files/aug_train/0.wav  \n",
       "1  /work2/d1/wav_files/aug_train/1.wav  \n",
       "2  /work2/d1/wav_files/aug_train/2.wav  \n",
       "3  /work2/d1/wav_files/aug_train/3.wav  \n",
       "4  /work2/d1/wav_files/aug_train/4.wav  "
      ]
     },
     "execution_count": 198,
     "metadata": {},
     "output_type": "execute_result"
    }
   ],
   "source": [
    "df_train.head()"
   ]
  },
  {
   "cell_type": "markdown",
   "metadata": {},
   "source": [
    "# Preprocessing Text"
   ]
  },
  {
   "cell_type": "code",
   "execution_count": 245,
   "metadata": {},
   "outputs": [],
   "source": [
    "import re\n",
    "\n",
    "def text_cleaning(text):\n",
    "    \n",
    "    # changing to lower register\n",
    "    text = text.lower()\n",
    "    \n",
    "    # removing punctuation and keeping only cyrillic letters\n",
    "    reg = re.compile('[^а-яё ]')\n",
    "    text = reg.sub('', text)\n",
    "    \n",
    "    return text"
   ]
  },
  {
   "cell_type": "code",
   "execution_count": 246,
   "metadata": {},
   "outputs": [],
   "source": [
    "df_train['sentence_clean'] = df_train['sentence'].apply(text_cleaning)\n",
    "df_test['sentence_clean'] = df_test['sentence'].apply(text_cleaning)\n",
    "df_valid_short['sentence_clean'] = df_valid_short['sentence'].apply(text_cleaning)"
   ]
  },
  {
   "cell_type": "markdown",
   "metadata": {},
   "source": [
    "# Saving to CSV"
   ]
  },
  {
   "cell_type": "code",
   "execution_count": 247,
   "metadata": {},
   "outputs": [],
   "source": [
    "data_train = df_train[['new_file', 'wav_filesize', 'sentence_clean']][:2000].copy()\n",
    "data_test = df_test[['new_file', 'wav_filesize', 'sentence_clean']][:700].copy()\n",
    "data_valid = df_valid_short[['new_file', 'wav_filesize', 'sentence_clean']][:700].copy()"
   ]
  },
  {
   "cell_type": "code",
   "execution_count": 248,
   "metadata": {},
   "outputs": [],
   "source": [
    "data_train.rename(columns={'new_file': 'wav_filename', 'sentence_clean': 'transcript'}, inplace=True)\n",
    "data_test.rename(columns={'new_file': 'wav_filename', 'sentence_clean': 'transcript'}, inplace=True)\n",
    "data_valid.rename(columns={'new_file': 'wav_filename', 'sentence_clean': 'transcript'}, inplace=True)"
   ]
  },
  {
   "cell_type": "code",
   "execution_count": 253,
   "metadata": {},
   "outputs": [
    {
     "data": {
      "text/html": [
       "<div>\n",
       "<style scoped>\n",
       "    .dataframe tbody tr th:only-of-type {\n",
       "        vertical-align: middle;\n",
       "    }\n",
       "\n",
       "    .dataframe tbody tr th {\n",
       "        vertical-align: top;\n",
       "    }\n",
       "\n",
       "    .dataframe thead th {\n",
       "        text-align: right;\n",
       "    }\n",
       "</style>\n",
       "<table border=\"1\" class=\"dataframe\">\n",
       "  <thead>\n",
       "    <tr style=\"text-align: right;\">\n",
       "      <th></th>\n",
       "      <th>wav_filename</th>\n",
       "      <th>wav_filesize</th>\n",
       "      <th>transcript</th>\n",
       "    </tr>\n",
       "  </thead>\n",
       "  <tbody>\n",
       "    <tr>\n",
       "      <th>175</th>\n",
       "      <td>/work2/d1/wav_files/wav_valid/175.wav</td>\n",
       "      <td>213548</td>\n",
       "      <td>не заставляй меня выбирать между джимми и тобой</td>\n",
       "    </tr>\n",
       "    <tr>\n",
       "      <th>176</th>\n",
       "      <td>/work2/d1/wav_files/wav_valid/176.wav</td>\n",
       "      <td>73772</td>\n",
       "      <td>да</td>\n",
       "    </tr>\n",
       "    <tr>\n",
       "      <th>177</th>\n",
       "      <td>/work2/d1/wav_files/wav_valid/177.wav</td>\n",
       "      <td>77612</td>\n",
       "      <td></td>\n",
       "    </tr>\n",
       "    <tr>\n",
       "      <th>178</th>\n",
       "      <td>/work2/d1/wav_files/wav_valid/178.wav</td>\n",
       "      <td>165932</td>\n",
       "      <td>необходимо повысить уровень ответственности и ...</td>\n",
       "    </tr>\n",
       "  </tbody>\n",
       "</table>\n",
       "</div>"
      ],
      "text/plain": [
       "                              wav_filename  wav_filesize  \\\n",
       "175  /work2/d1/wav_files/wav_valid/175.wav        213548   \n",
       "176  /work2/d1/wav_files/wav_valid/176.wav         73772   \n",
       "177  /work2/d1/wav_files/wav_valid/177.wav         77612   \n",
       "178  /work2/d1/wav_files/wav_valid/178.wav        165932   \n",
       "\n",
       "                                            transcript  \n",
       "175    не заставляй меня выбирать между джимми и тобой  \n",
       "176                                                 да  \n",
       "177                                                     \n",
       "178  необходимо повысить уровень ответственности и ...  "
      ]
     },
     "execution_count": 253,
     "metadata": {},
     "output_type": "execute_result"
    }
   ],
   "source": [
    "data_valid[175:179]"
   ]
  },
  {
   "cell_type": "code",
   "execution_count": 259,
   "metadata": {},
   "outputs": [
    {
     "data": {
      "text/plain": [
       "Int64Index([177, 352, 491], dtype='int64')"
      ]
     },
     "execution_count": 259,
     "metadata": {},
     "output_type": "execute_result"
    }
   ],
   "source": [
    "data_valid[data_valid['transcript'] == ''].index"
   ]
  },
  {
   "cell_type": "code",
   "execution_count": 262,
   "metadata": {},
   "outputs": [
    {
     "data": {
      "text/plain": [
       "Int64Index([175], dtype='int64')"
      ]
     },
     "execution_count": 262,
     "metadata": {},
     "output_type": "execute_result"
    }
   ],
   "source": [
    "data_test[data_test['transcript'] == ''].index"
   ]
  },
  {
   "cell_type": "code",
   "execution_count": 263,
   "metadata": {},
   "outputs": [
    {
     "data": {
      "text/plain": [
       "Int64Index([], dtype='int64')"
      ]
     },
     "execution_count": 263,
     "metadata": {},
     "output_type": "execute_result"
    }
   ],
   "source": [
    "data_train[data_train['transcript'] == ''].index"
   ]
  },
  {
   "cell_type": "code",
   "execution_count": 261,
   "metadata": {},
   "outputs": [],
   "source": [
    "data_valid.drop([177, 352, 491], inplace = True)"
   ]
  },
  {
   "cell_type": "code",
   "execution_count": 264,
   "metadata": {},
   "outputs": [],
   "source": [
    "data_test.drop([175], inplace = True)"
   ]
  },
  {
   "cell_type": "code",
   "execution_count": 265,
   "metadata": {},
   "outputs": [],
   "source": [
    "data_train.to_csv('/work2/d1/train.csv')\n",
    "data_test.to_csv('/work2/d1/test.csv')\n",
    "data_valid.to_csv('/work2/d1/dev.csv')"
   ]
  },
  {
   "cell_type": "code",
   "execution_count": null,
   "metadata": {},
   "outputs": [],
   "source": []
  }
 ],
 "metadata": {
  "kernelspec": {
   "display_name": "Python 3 (ipykernel)",
   "language": "python",
   "name": "python3"
  },
  "language_info": {
   "codemirror_mode": {
    "name": "ipython",
    "version": 3
   },
   "file_extension": ".py",
   "mimetype": "text/x-python",
   "name": "python",
   "nbconvert_exporter": "python",
   "pygments_lexer": "ipython3",
   "version": "3.6.9"
  }
 },
 "nbformat": 4,
 "nbformat_minor": 2
}
